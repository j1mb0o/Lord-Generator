{
 "cells": [
  {
   "cell_type": "code",
   "execution_count": 1,
   "metadata": {},
   "outputs": [],
   "source": [
    "import json\n",
    "from random import choices\n",
    "import re\n",
    "\n",
    "def clean_markdown_symbols(text):\n",
    "    # Define patterns to clean\n",
    "    patterns = [\n",
    "        (r'\\*\\*(.*?)\\*\\*', r'\\1'),  # Bold: **text** -> text\n",
    "        (r'\\*(.*?)\\*', r'\\1'),      # Italic: *text* -> text\n",
    "        (r'_(.*?)_', r'\\1'),        # Underscore italic: _text_ -> text\n",
    "        (r'`(.*?)`', r'\\1'),        # Code: `text` -> text\n",
    "        (r'~~(.*?)~~', r'\\1'),      # Strikethrough: ~~text~~ -> text\n",
    "        (r'#{1,6}\\s', ''),          # Headers: # Header -> Header\n",
    "        (r'\\[(.*?)\\]\\(.*?\\)', r'\\1'), # Links: [text](url) -> text\n",
    "    ]\n",
    "    \n",
    "    cleaned_text = text\n",
    "    for pattern, replacement in patterns:\n",
    "        cleaned_text = re.sub(pattern, replacement, cleaned_text)\n",
    "    \n",
    "    return cleaned_text\n"
   ]
  },
  {
   "cell_type": "code",
   "execution_count": 2,
   "metadata": {},
   "outputs": [],
   "source": [
    "with open('../data/byron_processed_poems.json') as f:\n",
    "    byron_poems = json.load(f)\n",
    "\n",
    "with open('../data/byron_generated_poems.json') as f:\n",
    "    generated_poems = json.load(f)"
   ]
  },
  {
   "cell_type": "code",
   "execution_count": 3,
   "metadata": {},
   "outputs": [],
   "source": [
    "sampled_byron = choices(byron_poems, k=6)\n",
    "sampled_generated = choices(generated_poems, k=3)"
   ]
  },
  {
   "cell_type": "code",
   "execution_count": 4,
   "metadata": {},
   "outputs": [],
   "source": [
    "example_poems = sampled_byron[:3]\n",
    "evaluation_poems = sampled_byron[3:] + sampled_generated"
   ]
  },
  {
   "cell_type": "code",
   "execution_count": 5,
   "metadata": {},
   "outputs": [],
   "source": [
    "example_json = []\n",
    "\n",
    "for poem in example_poems:\n",
    "    clean_lines = ''.join([clean_markdown_symbols(line) for line in poem[\"lines\"]])\n",
    "    poem_object = {\n",
    "        \"title\": \"\",\n",
    "        \"lines\":[clean_lines],\n",
    "        \"isGenerated\": False\n",
    "    }\n",
    "    example_json.append(poem_object)"
   ]
  },
  {
   "cell_type": "code",
   "execution_count": 6,
   "metadata": {},
   "outputs": [],
   "source": [
    "evaluation_json = []\n",
    "for poem in evaluation_poems:\n",
    "    # print(poem[\"author\"])\n",
    "    clean_lines = ''.join([clean_markdown_symbols(line) for line in poem[\"lines\"]])\n",
    "    poem_object = {\n",
    "        \"title\": \"\",\n",
    "        \"lines\":[clean_lines],\n",
    "        \"isGenerated\": poem[\"author\"] == \"Generated\"\n",
    "    }\n",
    "    evaluation_json.append(poem_object)"
   ]
  },
  {
   "cell_type": "code",
   "execution_count": 7,
   "metadata": {},
   "outputs": [],
   "source": [
    "import random\n",
    "random.shuffle(evaluation_json)"
   ]
  },
  {
   "cell_type": "code",
   "execution_count": 10,
   "metadata": {},
   "outputs": [],
   "source": [
    "with open('example-eval.json', 'w') as f:\n",
    "    json.dump(example_json, f, indent=2)"
   ]
  },
  {
   "cell_type": "code",
   "execution_count": 11,
   "metadata": {},
   "outputs": [],
   "source": [
    "with open('test-eval.json', 'w') as f:\n",
    "    json.dump(evaluation_json, f, indent=2)"
   ]
  },
  {
   "cell_type": "code",
   "execution_count": 12,
   "metadata": {},
   "outputs": [
    {
     "data": {
      "text/plain": [
       "[{'title': '',\n",
       "  'lines': ['Absent or present, still to thee,\\nMy friend, what magic spells belong!\\nAs all can tell, who share, like me,\\nIn turn thy converse, and thy song.\\n\\nBut when the dreaded hour shall come\\nBy Friendship ever deemed too nigh,\\nAnd \"Memory\" o\\'er her Druid\\'s tomb\\nShall weep that aught of thee can die,\\n\\nHow fondly will she then repay\\nThy homage offered at her shrine,\\nAnd blend, while ages roll away,\\n_Her_ name immortally with _thine_!'],\n",
       "  'isGenerated': False},\n",
       " {'title': '',\n",
       "  'lines': [\"Anne's Eye is liken'd to the _Sun_,\\nFrom it such Beams of Beauty fall;\\nAnd _this_ can be denied by none,\\nFor like the _Sun_, it shines on _All_.\\n\\nThen do not admiration smother,\\nOr say these glances don't become her;\\nTo _you_, or _I_, or _any other_\\nHer _Sun_, displays perpetual Summer.\"],\n",
       "  'isGenerated': False},\n",
       " {'title': '',\n",
       "  'lines': [\"When Man, expell'd from Eden's bowers,\\nA moment linger'd near the gate,\\nEach scene recall'd the vanish'd hours,\\nAnd bade him curse his future fate.\\n\\nBut, wandering on through distant climes,\\nHe learnt to bear his load of grief;\\nJust gave a sigh to other times,\\nAnd found in busier scenes relief.\\n\\nThus, Lady! will it be with me,\\nAnd I must view thy charms no more;\\nFor, while I linger near to thee,\\nI sigh for all I knew before.\\n\\nIn flight I shall be surely wise,\\nEscaping from temptation's snare:\\nI cannot view my Paradise\\nWithout the wish of dwelling there.\"],\n",
       "  'isGenerated': False}]"
      ]
     },
     "execution_count": 12,
     "metadata": {},
     "output_type": "execute_result"
    }
   ],
   "source": [
    "example_json"
   ]
  }
 ],
 "metadata": {
  "kernelspec": {
   "display_name": "creativity",
   "language": "python",
   "name": "python3"
  },
  "language_info": {
   "codemirror_mode": {
    "name": "ipython",
    "version": 3
   },
   "file_extension": ".py",
   "mimetype": "text/x-python",
   "name": "python",
   "nbconvert_exporter": "python",
   "pygments_lexer": "ipython3",
   "version": "3.11.9"
  }
 },
 "nbformat": 4,
 "nbformat_minor": 2
}
