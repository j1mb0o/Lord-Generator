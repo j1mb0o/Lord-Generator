{
 "cells": [
  {
   "cell_type": "markdown",
   "metadata": {},
   "source": [
    "Markov Chain Poem Generator"
   ]
  },
  {
   "cell_type": "code",
   "execution_count": 7,
   "metadata": {},
   "outputs": [],
   "source": [
    "import markovify\n",
    "import pyphen\n",
    "import re\n",
    "import json\n",
    "import re"
   ]
  },
  {
   "cell_type": "code",
   "execution_count": 30,
   "metadata": {},
   "outputs": [
    {
     "name": "stdout",
     "output_type": "stream",
     "text": [
      "So _He_ has cut his country's long ago.\n",
      "And thou--who tell'st me to rapture again.\n",
      "My boat is on the Conqueror's head!\n",
      "So _He_ has cut his country's long ago.\n",
      "I. The man who cut his throat at last!--He!\n",
      "I. The man who cut his throat at last!--He!\n",
      "Sonnet composed in the bosoms of Gath!\n",
      "So _He_ has cut his country's long ago.\n",
      "So _He_ has cut his country's long ago.\n",
      "I thought from my breast your fickle bosom please?\n"
     ]
    }
   ],
   "source": [
    "with open('byron_processed_poems.json') as f:\n",
    "    byron_poems = json.load(f)\n",
    "\n",
    "text = ' '.join([poem['lines'] for poem in byron_poems])\n",
    "text_model = markovify.Text(text, state_size=2)\n",
    "\n",
    "\n",
    "def syllable_count(sentence):\n",
    "    dic = pyphen.Pyphen(lang='en')\n",
    "    words = re.findall(r'\\b\\w+\\b', sentence)\n",
    "    syllables = sum([len(dic.inserted(word).split('-')) for word in words])\n",
    "    return syllables\n",
    "\n",
    "def is_iambic_pentameter(sentence):\n",
    "    syllables = syllable_count(sentence)\n",
    "    return syllables == 10\n",
    "\n",
    "def generate_iambic_line():\n",
    "    while True:\n",
    "        sentence = text_model.make_sentence()\n",
    "        if sentence and is_iambic_pentameter(sentence):\n",
    "            return sentence\n",
    "\n",
    "def generate_poem(num_lines=10):\n",
    "    poem = []\n",
    "    for _ in range(num_lines):\n",
    "        line = generate_iambic_line()\n",
    "        poem.append(line)\n",
    "    return '\\n'.join(poem)\n",
    "\n",
    "if __name__ == \"__main__\":\n",
    "    poem = generate_poem()\n",
    "    print(poem)"
   ]
  }
 ],
 "metadata": {
  "kernelspec": {
   "display_name": "Python 3",
   "language": "python",
   "name": "python3"
  },
  "language_info": {
   "codemirror_mode": {
    "name": "ipython",
    "version": 3
   },
   "file_extension": ".py",
   "mimetype": "text/x-python",
   "name": "python",
   "nbconvert_exporter": "python",
   "pygments_lexer": "ipython3",
   "version": "3.11.5"
  }
 },
 "nbformat": 4,
 "nbformat_minor": 2
}
