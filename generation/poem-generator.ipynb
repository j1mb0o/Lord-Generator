{
 "cells": [
  {
   "cell_type": "code",
   "execution_count": 6,
   "metadata": {},
   "outputs": [],
   "source": [
    "from langchain_core.prompts import PromptTemplate\n",
    "from langchain_ollama.llms import OllamaLLM\n",
    "from typing import List\n",
    "import random\n",
    "import json\n",
    "import random\n"
   ]
  },
  {
   "cell_type": "code",
   "execution_count": 7,
   "metadata": {},
   "outputs": [],
   "source": [
    "def get_promt( poems: List, num_of_examples:int = 5,):\n",
    "    start = \"The poems bellow are some examples by Lord Byron.\\n\\n\\n\"\n",
    "    mid = []\n",
    "\n",
    "    for i in range(num_of_examples):\n",
    "        mid.append(f\"Example {i+1}:\\n{random.choice(poems)['lines']}\\n\\n\\n\")\n",
    "    end = \"Now, write a new poem in the style of Lord Byron. Write only the poem, without title or any explanation.\\n\\n\\n\"\n",
    "    return start + \"\".join(mid) + end\n",
    "\n",
    "# with open (\"byron_prompt.txt\", \"w\") as myfile:\n",
    "#     myfile.write(get_promt(poems))"
   ]
  },
  {
   "cell_type": "code",
   "execution_count": 8,
   "metadata": {},
   "outputs": [],
   "source": [
    "with open(\"byron_processed_poems.json\", \"r\", encoding='utf-8') as f:\n",
    "    poems = json.load(f)\n",
    "\n",
    "model = OllamaLLM(model=\"llama3:8b\")"
   ]
  },
  {
   "cell_type": "code",
   "execution_count": 9,
   "metadata": {},
   "outputs": [],
   "source": [
    "\n",
    "# # Define a few-shot prompt template for Lord Byron’s style\n",
    "# byron_prompt = \"\"\"\n",
    "# Below are poems written in the style of Lord Byron:\n",
    "\n",
    "# Example 1:\n",
    "# {example_1}\n",
    "\n",
    "# Example 2:\n",
    "# {example_2}\n",
    "\n",
    "# Now, write a new poem in the style of Lord Byron:\n",
    "# \"\"\"\n",
    "\n",
    "# # Substitute this with actual poems\n",
    "# #TODO: Replace the hardcoded poems from a file, and sample 2-5 poems\n",
    "# poem_1 = \"\"\"She walks in beauty, like the night\n",
    "# Of cloudless climes and starry skies;\n",
    "# And all that's best of dark and bright\n",
    "# Meet in her aspect and her eyes.\"\"\"\n",
    "\n",
    "# poem_2 = \"\"\"When we two parted\n",
    "# In silence and tears,\n",
    "# Half broken-hearted\n",
    "# To sever for years,\n",
    "# Pale grew thy cheek and cold,\n",
    "# Colder thy kiss;\"\"\"\n",
    "\n",
    "# # Initialize the PromptTemplate in Langchain\n",
    "# prompt_template = PromptTemplate(\n",
    "#     input_variables=[\"example_1\", \"example_2\"],\n",
    "#     template=byron_prompt\n",
    "# )\n",
    "\n",
    "# # Format the prompt with Byron examples\n",
    "# formatted_prompt = prompt_template.format(example_1=poem_1, example_2=poem_2)\n",
    "# print(formatted_prompt)\n"
   ]
  },
  {
   "cell_type": "code",
   "execution_count": 13,
   "metadata": {},
   "outputs": [],
   "source": [
    "responses = []\n"
   ]
  },
  {
   "cell_type": "code",
   "execution_count": 15,
   "metadata": {},
   "outputs": [
    {
     "name": "stdout",
     "output_type": "stream",
     "text": [
      "Oh fairest one, whose eyes like morning shine,\n",
      "With beauty's radiance, thy path divine;\n",
      "Thou walkest forth, as if thy feet were bound\n",
      "To steps where glory waits, and honor's found.\n",
      "\n",
      "The winds that whispers secrets in my ear,\n",
      "Of conquests won, and triumphs yet to hear;\n",
      "They tell me of a love, whose passion's fire\n",
      "Burns bright as stars, and with a single ire;\n",
      "\n",
      "Oh fairest one, thy beauty's cruel might,\n",
      "Takes hold of me, and holds it by the light;\n",
      "It chains my heart, and binds my will in thrall,\n",
      "As if thy charms had conquered all.\n",
      "\n",
      "Yet dare I hope, that thou may'st yet be mine,\n",
      "And in thy love, my every care entwine;\n",
      "For though the world, with all its power and might,\n",
      "May try to tear me from thy radiant light;\n",
      "\n",
      "My heart, like yours, is made of passions' fire,\n",
      "That in thy love, our souls may conspire;\n",
      "And though the Fates, that cruelly decree\n",
      "Our fate, yet I shall struggle, wild and free.\n"
     ]
    }
   ],
   "source": [
    "response = model.invoke(get_promt(poems))\n",
    "\n",
    "print(response)"
   ]
  },
  {
   "cell_type": "code",
   "execution_count": 16,
   "metadata": {},
   "outputs": [],
   "source": [
    "responses.append(response)"
   ]
  },
  {
   "cell_type": "code",
   "execution_count": 17,
   "metadata": {},
   "outputs": [
    {
     "data": {
      "text/plain": [
       "[\"As twilight falls on life's decaying shore,\\nAnd midnight's darkness starts to pour,\\nThe winds of memory begin their flight,\\nAnd whispers of what's past take up the fight.\\nOh! then I'll hold thee close, my heart's last light,\\nAnd in thy eyes, a dying spark take flight;\\nFor though thou art gone, and I remain behind,\\nMy love for thee will be, like summer's wind.\",\n",
       " \"Oh fairest one, whose eyes like morning shine,\\nWith beauty's radiance, thy path divine;\\nThou walkest forth, as if thy feet were bound\\nTo steps where glory waits, and honor's found.\\n\\nThe winds that whispers secrets in my ear,\\nOf conquests won, and triumphs yet to hear;\\nThey tell me of a love, whose passion's fire\\nBurns bright as stars, and with a single ire;\\n\\nOh fairest one, thy beauty's cruel might,\\nTakes hold of me, and holds it by the light;\\nIt chains my heart, and binds my will in thrall,\\nAs if thy charms had conquered all.\\n\\nYet dare I hope, that thou may'st yet be mine,\\nAnd in thy love, my every care entwine;\\nFor though the world, with all its power and might,\\nMay try to tear me from thy radiant light;\\n\\nMy heart, like yours, is made of passions' fire,\\nThat in thy love, our souls may conspire;\\nAnd though the Fates, that cruelly decree\\nOur fate, yet I shall struggle, wild and free.\"]"
      ]
     },
     "execution_count": 17,
     "metadata": {},
     "output_type": "execute_result"
    }
   ],
   "source": [
    "responses"
   ]
  },
  {
   "cell_type": "code",
   "execution_count": 18,
   "metadata": {},
   "outputs": [],
   "source": [
    "# save the responses as a json file \n",
    "\n",
    "with open(\"byron_generated_poems.json\", \"w\") as f:\n",
    "    json.dump(responses, f)"
   ]
  }
 ],
 "metadata": {
  "kernelspec": {
   "display_name": "creativity",
   "language": "python",
   "name": "python3"
  },
  "language_info": {
   "codemirror_mode": {
    "name": "ipython",
    "version": 3
   },
   "file_extension": ".py",
   "mimetype": "text/x-python",
   "name": "python",
   "nbconvert_exporter": "python",
   "pygments_lexer": "ipython3",
   "version": "3.11.9"
  }
 },
 "nbformat": 4,
 "nbformat_minor": 2
}
